{
  "nbformat": 4,
  "nbformat_minor": 0,
  "metadata": {
    "colab": {
      "provenance": []
    },
    "kernelspec": {
      "name": "python3",
      "display_name": "Python 3"
    },
    "language_info": {
      "name": "python"
    }
  },
  "cells": [
    {
      "cell_type": "markdown",
      "source": [
        "# Git File\n",
        "Question: 1 Based on what you have learnt in the class, do the following steps:\n",
        "\n",
        "  - Create a new folder\n",
        "  - Put the following files in the folder\n",
        "    - Code.txt\n",
        "    - Log.txt\n",
        "    - Output.txt\n",
        "  - Stage the Code.txt and Output.txt files\n",
        "  - Commit them\n",
        "  - And finally push them to GitHub\n",
        "\n",
        "**Answer**\n",
        "  - Step 1: We'll create folder first\n",
        "        `mkdir git_assignment`    \n",
        "  - Step 2: We'll then create text file as mentioned in assignment.\n",
        "        touch Code.txt\n",
        "        touch Output.txt\n",
        "        touch Log.txt\n",
        "  - Step 3: Then we'll Initialize Git file.\n",
        "        git init\n",
        "  - Step 4: We'll then add our github remote repo in our current working directory.\n",
        "        git remote add origin https://github.com/gaganforge/git_assignment.git\n",
        "  - Step5:\n",
        "        git add Code.txt Output.txt\n",
        "        git commit -m \"Created three files. Commited 2 Code.txt and Output.txt\"\n",
        "        git push origin master"
      ],
      "metadata": {
        "id": "E4Zbht_1-SWK"
      }
    },
    {
      "cell_type": "markdown",
      "source": [
        "Question 2: Tasks to Be Performed:\n",
        "  - Create a Git working directory with feature1.txt and feature2.txt in the master branch\n",
        "  - Create 3 branches develop, feature1 and feature2\n",
        "  - In develop branch create develop.txt, do not stage or commit it\n",
        "  - Stash this file and check out to feature1 branch\n",
        "  - Create new.txt file in feature1 branch, stage and commit this file\n",
        "  - Checkout to develop, unstash this file and commit\n",
        "  - Please submit all the Git commands used to do the above steps\n",
        "\n",
        "**Answer:**\n",
        "  - Create a Git working directory with feature1.txt and feature2.txt in the master branch\n",
        "        mkdir git-workflow-demo\n",
        "        cd git-workflow-demo\n",
        "        git init\n",
        "        touch feature1.txt feature2.txt\n",
        "        git add feature1.txt feature2.txt\n",
        "        git commit -m \"Add feature1.txt and feature2.txt to master branch\"\n",
        "\n",
        "  - Create 3 branches: develop, feature1, and feature2.\n",
        "        git branch develop\n",
        "        git branch feature1\n",
        "        git branch feature2\n",
        "  - In develop branch create develop.txt, do not stage or commit it.\n",
        "        git checkout develop\n",
        "        touch develop.txt\n",
        "  - Stash this file and checkout to feature1 branch\n",
        "        git stash (# Stashes the untracked develop.txt)\n",
        "        git checkout feature1\n",
        "  - Create new.txt file in feature1 branch, stage and commit this file.\n",
        "        touch new.txt\n",
        "        git add new.txt\n",
        "        git commit -m \"Add new.txt in feature1 branch\".\n",
        "  - Checkout to develop, unstash the file and commit it.\n",
        "        git checkout develop\n",
        "        git stash pop # Restores develop.txt\n",
        "        git add develop.txt\n",
        "        git commit -m \"Add develop.txt to develop branch\""
      ],
      "metadata": {
        "id": "D_hRwecsCi-u"
      }
    },
    {
      "cell_type": "markdown",
      "source": [],
      "metadata": {
        "id": "Tsiaizu_iYot"
      }
    },
    {
      "cell_type": "markdown",
      "source": [],
      "metadata": {
        "id": "E5qjJWsSEMEq"
      }
    }
  ]
}